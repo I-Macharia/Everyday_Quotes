{
 "cells": [
  {
   "cell_type": "markdown",
   "metadata": {},
   "source": [
    "# Daily Motivation Quotes\n"
   ]
  },
  {
   "cell_type": "markdown",
   "metadata": {},
   "source": [
    "## Business Understanding"
   ]
  },
  {
   "cell_type": "markdown",
   "metadata": {},
   "source": [
    "In our increasingly fast-paced world, people encounter numerous challenges and responsibilities on a daily basis. To address the need for consistent motivation, we propose a data science project that revolves around curating and delivering carefully selected quotes. These quotes, extracted from diverse sources including historical figures, popular literature, and prominent personalities, will serve as a source of encouragement, reflection, and empowerment for individuals."
   ]
  },
  {
   "cell_type": "markdown",
   "metadata": {},
   "source": [
    "#### Objectives:\n",
    "\n",
    "The primary objectives of this project are as follows:\n",
    "1.\tCurate Inspirational Quotes:\n",
    "Gather a diverse collection of quotes from the Good Reads website, which boasts an extensive compilation of quotes spanning various genres and themes.\n",
    "2.\tDaily Motivational Updates: Develop a system to provide users with daily updates featuring a thoughtfully chosen quote. These updates will cater to different areas of life, ensuring a comprehensive and relatable experience.\n",
    "3.\tTag-based Grouping: Implement a categorization mechanism that tags each quote based on its thematic content. This grouping will enable users to easily identify quotes that resonate with their specific preferences or current situations.\n"
   ]
  },
  {
   "cell_type": "markdown",
   "metadata": {},
   "source": [
    "## Data Understanding"
   ]
  },
  {
   "cell_type": "markdown",
   "metadata": {},
   "source": [
    "•\tSource quotes from the Good Reads website, exploring the wide array of authors and themes available.\n",
    "\n",
    "•\tAnalyze the structure of the collected data, including metadata such as author names, publication dates, and associated tags.\n"
   ]
  },
  {
   "cell_type": "code",
   "execution_count": 2,
   "metadata": {},
   "outputs": [],
   "source": [
    "import requests\n",
    "import pandas as pd\n",
    "from bs4 import BeautifulSoup\n",
    "import scrapy \n",
    "#from pathlib import path\n",
    "\n",
    "import numpy as np\n",
    "import seaborn as sns\n",
    "import matplotlib.pyplot as plt\n"
   ]
  },
  {
   "cell_type": "markdown",
   "metadata": {},
   "source": [
    "### 3.\tData Preparation\n",
    "After obtaining the data we intend to use, we wil now open it here and begin the data cleaning process before proceeding to analysis."
   ]
  },
  {
   "cell_type": "code",
   "execution_count": 5,
   "metadata": {},
   "outputs": [],
   "source": [
    "# Reading the data\n",
    "quotes = pd.read_csv(r'Quotes.csv', index_col=0)"
   ]
  },
  {
   "cell_type": "code",
   "execution_count": 6,
   "metadata": {},
   "outputs": [
    {
     "data": {
      "text/html": [
       "<div>\n",
       "<style scoped>\n",
       "    .dataframe tbody tr th:only-of-type {\n",
       "        vertical-align: middle;\n",
       "    }\n",
       "\n",
       "    .dataframe tbody tr th {\n",
       "        vertical-align: top;\n",
       "    }\n",
       "\n",
       "    .dataframe thead th {\n",
       "        text-align: right;\n",
       "    }\n",
       "</style>\n",
       "<table border=\"1\" class=\"dataframe\">\n",
       "  <thead>\n",
       "    <tr style=\"text-align: right;\">\n",
       "      <th></th>\n",
       "      <th>Author Name</th>\n",
       "      <th>Quote</th>\n",
       "      <th>Tags</th>\n",
       "    </tr>\n",
       "  </thead>\n",
       "  <tbody>\n",
       "    <tr>\n",
       "      <th>0</th>\n",
       "      <td>Oscar Wilde</td>\n",
       "      <td>“Be yourself; everyone else is already taken.”...</td>\n",
       "      <td>['attributed-no-source', 'be-yourself', 'gilbe...</td>\n",
       "    </tr>\n",
       "    <tr>\n",
       "      <th>1</th>\n",
       "      <td>Marilyn Monroe</td>\n",
       "      <td>“I'm selfish, impatient and a little insecure....</td>\n",
       "      <td>['attributed-no-source', 'best', 'life', 'love...</td>\n",
       "    </tr>\n",
       "    <tr>\n",
       "      <th>2</th>\n",
       "      <td>Albert Einstein</td>\n",
       "      <td>“Two things are infinite: the universe and hum...</td>\n",
       "      <td>['attributed-no-source', 'human-nature', 'humo...</td>\n",
       "    </tr>\n",
       "    <tr>\n",
       "      <th>3</th>\n",
       "      <td>Frank Zappa</td>\n",
       "      <td>“So many books, so little time.”      ―      F...</td>\n",
       "      <td>['books', 'humor']</td>\n",
       "    </tr>\n",
       "    <tr>\n",
       "      <th>4</th>\n",
       "      <td>Marcus Tullius Cicero</td>\n",
       "      <td>“A room without books is like a body without a...</td>\n",
       "      <td>['attributed-no-source', 'books', 'simile', 's...</td>\n",
       "    </tr>\n",
       "    <tr>\n",
       "      <th>...</th>\n",
       "      <td>...</td>\n",
       "      <td>...</td>\n",
       "      <td>...</td>\n",
       "    </tr>\n",
       "    <tr>\n",
       "      <th>2995</th>\n",
       "      <td>A.A. Milne,</td>\n",
       "      <td>“I'm not lost for I know where I am. But howev...</td>\n",
       "      <td>NaN</td>\n",
       "    </tr>\n",
       "    <tr>\n",
       "      <th>2996</th>\n",
       "      <td>Henry David Thoreau</td>\n",
       "      <td>“Dreams are the touchstones of our characters....</td>\n",
       "      <td>NaN</td>\n",
       "    </tr>\n",
       "    <tr>\n",
       "      <th>2997</th>\n",
       "      <td>Cassandra Clare,</td>\n",
       "      <td>“Black hair and blue eyes are my favorite comb...</td>\n",
       "      <td>NaN</td>\n",
       "    </tr>\n",
       "    <tr>\n",
       "      <th>2998</th>\n",
       "      <td>Nicholas Sparks,</td>\n",
       "      <td>“In times of grief and sorrow I will hold you ...</td>\n",
       "      <td>NaN</td>\n",
       "    </tr>\n",
       "    <tr>\n",
       "      <th>2999</th>\n",
       "      <td>Bill Watterson,</td>\n",
       "      <td>“People think it must be fun to be a super gen...</td>\n",
       "      <td>NaN</td>\n",
       "    </tr>\n",
       "  </tbody>\n",
       "</table>\n",
       "<p>3000 rows × 3 columns</p>\n",
       "</div>"
      ],
      "text/plain": [
       "                Author Name  \\\n",
       "0               Oscar Wilde   \n",
       "1            Marilyn Monroe   \n",
       "2           Albert Einstein   \n",
       "3               Frank Zappa   \n",
       "4     Marcus Tullius Cicero   \n",
       "...                     ...   \n",
       "2995            A.A. Milne,   \n",
       "2996    Henry David Thoreau   \n",
       "2997       Cassandra Clare,   \n",
       "2998       Nicholas Sparks,   \n",
       "2999        Bill Watterson,   \n",
       "\n",
       "                                                  Quote  \\\n",
       "0     “Be yourself; everyone else is already taken.”...   \n",
       "1     “I'm selfish, impatient and a little insecure....   \n",
       "2     “Two things are infinite: the universe and hum...   \n",
       "3     “So many books, so little time.”      ―      F...   \n",
       "4     “A room without books is like a body without a...   \n",
       "...                                                 ...   \n",
       "2995  “I'm not lost for I know where I am. But howev...   \n",
       "2996  “Dreams are the touchstones of our characters....   \n",
       "2997  “Black hair and blue eyes are my favorite comb...   \n",
       "2998  “In times of grief and sorrow I will hold you ...   \n",
       "2999  “People think it must be fun to be a super gen...   \n",
       "\n",
       "                                                   Tags  \n",
       "0     ['attributed-no-source', 'be-yourself', 'gilbe...  \n",
       "1     ['attributed-no-source', 'best', 'life', 'love...  \n",
       "2     ['attributed-no-source', 'human-nature', 'humo...  \n",
       "3                                    ['books', 'humor']  \n",
       "4     ['attributed-no-source', 'books', 'simile', 's...  \n",
       "...                                                 ...  \n",
       "2995                                                NaN  \n",
       "2996                                                NaN  \n",
       "2997                                                NaN  \n",
       "2998                                                NaN  \n",
       "2999                                                NaN  \n",
       "\n",
       "[3000 rows x 3 columns]"
      ]
     },
     "execution_count": 6,
     "metadata": {},
     "output_type": "execute_result"
    }
   ],
   "source": [
    "quotes"
   ]
  },
  {
   "cell_type": "markdown",
   "metadata": {},
   "source": [
    "We observe that the tags column did not get all the tags for the quotes and we will need to fill them up or remove them if that will not be possible. \n",
    "Although removing them will really affect the number of quotes availabe for us to use, therefore removing them will be a last resort. \n",
    "We will attempt to fill them based on the author. "
   ]
  },
  {
   "cell_type": "code",
   "execution_count": 7,
   "metadata": {},
   "outputs": [
    {
     "data": {
      "text/plain": [
       "Author Name      0\n",
       "Quote            0\n",
       "Tags           502\n",
       "dtype: int64"
      ]
     },
     "execution_count": 7,
     "metadata": {},
     "output_type": "execute_result"
    }
   ],
   "source": [
    "# Checking actual number of missing values. \n",
    "quotes.isna().sum()"
   ]
  },
  {
   "cell_type": "code",
   "execution_count": 10,
   "metadata": {},
   "outputs": [
    {
     "data": {
      "text/plain": [
       "'“So many books, so little time.”      ―      Frank Zappa'"
      ]
     },
     "execution_count": 10,
     "metadata": {},
     "output_type": "execute_result"
    }
   ],
   "source": [
    "# checking contents of the quote column. \n",
    "quotes['Quote'][3]"
   ]
  },
  {
   "cell_type": "code",
   "execution_count": 9,
   "metadata": {},
   "outputs": [
    {
     "data": {
      "text/html": [
       "<div>\n",
       "<style scoped>\n",
       "    .dataframe tbody tr th:only-of-type {\n",
       "        vertical-align: middle;\n",
       "    }\n",
       "\n",
       "    .dataframe tbody tr th {\n",
       "        vertical-align: top;\n",
       "    }\n",
       "\n",
       "    .dataframe thead th {\n",
       "        text-align: right;\n",
       "    }\n",
       "</style>\n",
       "<table border=\"1\" class=\"dataframe\">\n",
       "  <thead>\n",
       "    <tr style=\"text-align: right;\">\n",
       "      <th></th>\n",
       "      <th>Quote</th>\n",
       "      <th>Tags</th>\n",
       "    </tr>\n",
       "    <tr>\n",
       "      <th>Author Name</th>\n",
       "      <th></th>\n",
       "      <th></th>\n",
       "    </tr>\n",
       "  </thead>\n",
       "  <tbody>\n",
       "    <tr>\n",
       "      <th>A. A. Milne,</th>\n",
       "      <td>“It is more fun to talk with someone who doesn...</td>\n",
       "      <td>['antolini']</td>\n",
       "    </tr>\n",
       "    <tr>\n",
       "      <th>A.A. Milne</th>\n",
       "      <td>“Weeds are flowers, too, once you get to know ...</td>\n",
       "      <td>['happiness', 'hope', 'inspirational', 'new-ye...</td>\n",
       "    </tr>\n",
       "    <tr>\n",
       "      <th>A.A. Milne,</th>\n",
       "      <td>“Piglet sidled up to Pooh from behind. \"Pooh!\"...</td>\n",
       "      <td>['live-death-love']['activism']['dave-matthews...</td>\n",
       "    </tr>\n",
       "    <tr>\n",
       "      <th>A.J. Cronin</th>\n",
       "      <td>“Worry never robs tomorrow of its sorrow, but ...</td>\n",
       "      <td>['writing']</td>\n",
       "    </tr>\n",
       "    <tr>\n",
       "      <th>Abigail Van Buren</th>\n",
       "      <td>“The best index to a person's character is how...</td>\n",
       "      <td>['life']</td>\n",
       "    </tr>\n",
       "    <tr>\n",
       "      <th>...</th>\n",
       "      <td>...</td>\n",
       "      <td>...</td>\n",
       "    </tr>\n",
       "    <tr>\n",
       "      <th>جلال الدين الرومي</th>\n",
       "      <td>“لا تجزع من جرحك، وإلا فكيف للنور أن يتسلل إلى...</td>\n",
       "      <td>0</td>\n",
       "    </tr>\n",
       "    <tr>\n",
       "      <th>عباس محمود العقاد</th>\n",
       "      <td>“ليس هناك كتابا أقرأه و لا أستفيد منه شيئا جدي...</td>\n",
       "      <td>0</td>\n",
       "    </tr>\n",
       "    <tr>\n",
       "      <th>غسان كنفاني</th>\n",
       "      <td>“!لك شيء في هذا العالم.. فقم”      ―      غسان...</td>\n",
       "      <td>['identity']</td>\n",
       "    </tr>\n",
       "    <tr>\n",
       "      <th>محمود درويش</th>\n",
       "      <td>“و كن من أنتَ حيث تكون و احمل عبءَ قلبِكَ وحده...</td>\n",
       "      <td>['disappointment', 'dorian-gray', 'marriage', ...</td>\n",
       "    </tr>\n",
       "    <tr>\n",
       "      <th>مصطفى محمود,</th>\n",
       "      <td>“لن تكون متدينا إلا بالعلم ...فالله لا يعبد با...</td>\n",
       "      <td>['franz-kafka']['friends', 'life']['annabeth-c...</td>\n",
       "    </tr>\n",
       "  </tbody>\n",
       "</table>\n",
       "<p>1021 rows × 2 columns</p>\n",
       "</div>"
      ],
      "text/plain": [
       "                                                               Quote  \\\n",
       "Author Name                                                            \n",
       "A. A. Milne,       “It is more fun to talk with someone who doesn...   \n",
       "A.A. Milne         “Weeds are flowers, too, once you get to know ...   \n",
       "A.A. Milne,        “Piglet sidled up to Pooh from behind. \"Pooh!\"...   \n",
       "A.J. Cronin        “Worry never robs tomorrow of its sorrow, but ...   \n",
       "Abigail Van Buren  “The best index to a person's character is how...   \n",
       "...                                                              ...   \n",
       "جلال الدين الرومي  “لا تجزع من جرحك، وإلا فكيف للنور أن يتسلل إلى...   \n",
       "عباس محمود العقاد  “ليس هناك كتابا أقرأه و لا أستفيد منه شيئا جدي...   \n",
       "غسان كنفاني        “!لك شيء في هذا العالم.. فقم”      ―      غسان...   \n",
       "محمود درويش        “و كن من أنتَ حيث تكون و احمل عبءَ قلبِكَ وحده...   \n",
       "مصطفى محمود,       “لن تكون متدينا إلا بالعلم ...فالله لا يعبد با...   \n",
       "\n",
       "                                                                Tags  \n",
       "Author Name                                                           \n",
       "A. A. Milne,                                            ['antolini']  \n",
       "A.A. Milne         ['happiness', 'hope', 'inspirational', 'new-ye...  \n",
       "A.A. Milne,        ['live-death-love']['activism']['dave-matthews...  \n",
       "A.J. Cronin                                              ['writing']  \n",
       "Abigail Van Buren                                           ['life']  \n",
       "...                                                              ...  \n",
       "جلال الدين الرومي                                                  0  \n",
       "عباس محمود العقاد                                                  0  \n",
       "غسان كنفاني                                             ['identity']  \n",
       "محمود درويش        ['disappointment', 'dorian-gray', 'marriage', ...  \n",
       "مصطفى محمود,       ['franz-kafka']['friends', 'life']['annabeth-c...  \n",
       "\n",
       "[1021 rows x 2 columns]"
      ]
     },
     "execution_count": 9,
     "metadata": {},
     "output_type": "execute_result"
    }
   ],
   "source": [
    "quotes.groupby('Author Name').sum()"
   ]
  },
  {
   "cell_type": "code",
   "execution_count": null,
   "metadata": {},
   "outputs": [],
   "source": []
  },
  {
   "cell_type": "code",
   "execution_count": null,
   "metadata": {},
   "outputs": [],
   "source": []
  },
  {
   "cell_type": "code",
   "execution_count": null,
   "metadata": {},
   "outputs": [],
   "source": []
  },
  {
   "cell_type": "code",
   "execution_count": null,
   "metadata": {},
   "outputs": [],
   "source": []
  },
  {
   "cell_type": "code",
   "execution_count": null,
   "metadata": {},
   "outputs": [],
   "source": []
  },
  {
   "cell_type": "code",
   "execution_count": null,
   "metadata": {},
   "outputs": [],
   "source": []
  }
 ],
 "metadata": {
  "kernelspec": {
   "display_name": "Python 3",
   "language": "python",
   "name": "python3"
  },
  "language_info": {
   "codemirror_mode": {
    "name": "ipython",
    "version": 3
   },
   "file_extension": ".py",
   "mimetype": "text/x-python",
   "name": "python",
   "nbconvert_exporter": "python",
   "pygments_lexer": "ipython3",
   "version": "3.11.4"
  },
  "orig_nbformat": 4
 },
 "nbformat": 4,
 "nbformat_minor": 2
}
